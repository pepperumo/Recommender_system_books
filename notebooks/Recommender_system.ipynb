{
 "cells": [
  {
   "cell_type": "markdown",
   "metadata": {},
   "source": [
    "Upload the dataset\n"
   ]
  },
  {
   "cell_type": "code",
   "execution_count": 98,
   "metadata": {},
   "outputs": [
    {
     "data": {
      "text/html": [
       "<div>\n",
       "<style scoped>\n",
       "    .dataframe tbody tr th:only-of-type {\n",
       "        vertical-align: middle;\n",
       "    }\n",
       "\n",
       "    .dataframe tbody tr th {\n",
       "        vertical-align: top;\n",
       "    }\n",
       "\n",
       "    .dataframe thead th {\n",
       "        text-align: right;\n",
       "    }\n",
       "</style>\n",
       "<table border=\"1\" class=\"dataframe\">\n",
       "  <thead>\n",
       "    <tr style=\"text-align: right;\">\n",
       "      <th></th>\n",
       "      <th>ID</th>\n",
       "      <th>Name</th>\n",
       "      <th>Rating</th>\n",
       "    </tr>\n",
       "  </thead>\n",
       "  <tbody>\n",
       "    <tr>\n",
       "      <th>0</th>\n",
       "      <td>1</td>\n",
       "      <td>Agile Web Development with Rails: A Pragmatic ...</td>\n",
       "      <td>it was amazing</td>\n",
       "    </tr>\n",
       "    <tr>\n",
       "      <th>1</th>\n",
       "      <td>1</td>\n",
       "      <td>The Restaurant at the End of the Universe (Hit...</td>\n",
       "      <td>it was amazing</td>\n",
       "    </tr>\n",
       "    <tr>\n",
       "      <th>2</th>\n",
       "      <td>1</td>\n",
       "      <td>Siddhartha</td>\n",
       "      <td>it was amazing</td>\n",
       "    </tr>\n",
       "    <tr>\n",
       "      <th>3</th>\n",
       "      <td>1</td>\n",
       "      <td>The Clock of the Long Now: Time and Responsibi...</td>\n",
       "      <td>really liked it</td>\n",
       "    </tr>\n",
       "    <tr>\n",
       "      <th>4</th>\n",
       "      <td>1</td>\n",
       "      <td>Ready Player One (Ready Player One, #1)</td>\n",
       "      <td>really liked it</td>\n",
       "    </tr>\n",
       "  </tbody>\n",
       "</table>\n",
       "</div>"
      ],
      "text/plain": [
       "   ID                                               Name           Rating\n",
       "0   1  Agile Web Development with Rails: A Pragmatic ...   it was amazing\n",
       "1   1  The Restaurant at the End of the Universe (Hit...   it was amazing\n",
       "2   1                                         Siddhartha   it was amazing\n",
       "3   1  The Clock of the Long Now: Time and Responsibi...  really liked it\n",
       "4   1            Ready Player One (Ready Player One, #1)  really liked it"
      ]
     },
     "execution_count": 98,
     "metadata": {},
     "output_type": "execute_result"
    }
   ],
   "source": [
    "import pandas as pd\n",
    "\n",
    "# Upload the dataset\n",
    "df = pd.read_csv(r'C:\\Users\\peppe\\Desktop\\GoodReads Recommender System\\Dataset\\user_rating_0_to_1000.csv')\n",
    "df.head()"
   ]
  },
  {
   "cell_type": "markdown",
   "metadata": {},
   "source": [
    "Rename column names"
   ]
  },
  {
   "cell_type": "code",
   "execution_count": 99,
   "metadata": {},
   "outputs": [
    {
     "data": {
      "text/html": [
       "<div>\n",
       "<style scoped>\n",
       "    .dataframe tbody tr th:only-of-type {\n",
       "        vertical-align: middle;\n",
       "    }\n",
       "\n",
       "    .dataframe tbody tr th {\n",
       "        vertical-align: top;\n",
       "    }\n",
       "\n",
       "    .dataframe thead th {\n",
       "        text-align: right;\n",
       "    }\n",
       "</style>\n",
       "<table border=\"1\" class=\"dataframe\">\n",
       "  <thead>\n",
       "    <tr style=\"text-align: right;\">\n",
       "      <th></th>\n",
       "      <th>user_id</th>\n",
       "      <th>title</th>\n",
       "      <th>rating</th>\n",
       "    </tr>\n",
       "  </thead>\n",
       "  <tbody>\n",
       "    <tr>\n",
       "      <th>0</th>\n",
       "      <td>1</td>\n",
       "      <td>Agile Web Development with Rails: A Pragmatic ...</td>\n",
       "      <td>it was amazing</td>\n",
       "    </tr>\n",
       "    <tr>\n",
       "      <th>1</th>\n",
       "      <td>1</td>\n",
       "      <td>The Restaurant at the End of the Universe (Hit...</td>\n",
       "      <td>it was amazing</td>\n",
       "    </tr>\n",
       "    <tr>\n",
       "      <th>2</th>\n",
       "      <td>1</td>\n",
       "      <td>Siddhartha</td>\n",
       "      <td>it was amazing</td>\n",
       "    </tr>\n",
       "    <tr>\n",
       "      <th>3</th>\n",
       "      <td>1</td>\n",
       "      <td>The Clock of the Long Now: Time and Responsibi...</td>\n",
       "      <td>really liked it</td>\n",
       "    </tr>\n",
       "    <tr>\n",
       "      <th>4</th>\n",
       "      <td>1</td>\n",
       "      <td>Ready Player One (Ready Player One, #1)</td>\n",
       "      <td>really liked it</td>\n",
       "    </tr>\n",
       "  </tbody>\n",
       "</table>\n",
       "</div>"
      ],
      "text/plain": [
       "   user_id                                              title           rating\n",
       "0        1  Agile Web Development with Rails: A Pragmatic ...   it was amazing\n",
       "1        1  The Restaurant at the End of the Universe (Hit...   it was amazing\n",
       "2        1                                         Siddhartha   it was amazing\n",
       "3        1  The Clock of the Long Now: Time and Responsibi...  really liked it\n",
       "4        1            Ready Player One (Ready Player One, #1)  really liked it"
      ]
     },
     "execution_count": 99,
     "metadata": {},
     "output_type": "execute_result"
    }
   ],
   "source": [
    "df.rename(columns={'ID': 'user_id', 'Name': 'title', 'Rating': 'rating'}, inplace=True)\n",
    "df.head()"
   ]
  },
  {
   "cell_type": "markdown",
   "metadata": {},
   "source": [
    "Change the Ratings from text to 0-5"
   ]
  },
  {
   "cell_type": "code",
   "execution_count": 100,
   "metadata": {
    "vscode": {
     "languageId": "javascript"
    }
   },
   "outputs": [
    {
     "data": {
      "text/html": [
       "<div>\n",
       "<style scoped>\n",
       "    .dataframe tbody tr th:only-of-type {\n",
       "        vertical-align: middle;\n",
       "    }\n",
       "\n",
       "    .dataframe tbody tr th {\n",
       "        vertical-align: top;\n",
       "    }\n",
       "\n",
       "    .dataframe thead th {\n",
       "        text-align: right;\n",
       "    }\n",
       "</style>\n",
       "<table border=\"1\" class=\"dataframe\">\n",
       "  <thead>\n",
       "    <tr style=\"text-align: right;\">\n",
       "      <th></th>\n",
       "      <th>user_id</th>\n",
       "      <th>title</th>\n",
       "      <th>rating</th>\n",
       "    </tr>\n",
       "  </thead>\n",
       "  <tbody>\n",
       "    <tr>\n",
       "      <th>0</th>\n",
       "      <td>1</td>\n",
       "      <td>Agile Web Development with Rails: A Pragmatic ...</td>\n",
       "      <td>5</td>\n",
       "    </tr>\n",
       "    <tr>\n",
       "      <th>1</th>\n",
       "      <td>1</td>\n",
       "      <td>The Restaurant at the End of the Universe (Hit...</td>\n",
       "      <td>5</td>\n",
       "    </tr>\n",
       "    <tr>\n",
       "      <th>2</th>\n",
       "      <td>1</td>\n",
       "      <td>Siddhartha</td>\n",
       "      <td>5</td>\n",
       "    </tr>\n",
       "    <tr>\n",
       "      <th>3</th>\n",
       "      <td>1</td>\n",
       "      <td>The Clock of the Long Now: Time and Responsibi...</td>\n",
       "      <td>4</td>\n",
       "    </tr>\n",
       "    <tr>\n",
       "      <th>4</th>\n",
       "      <td>1</td>\n",
       "      <td>Ready Player One (Ready Player One, #1)</td>\n",
       "      <td>4</td>\n",
       "    </tr>\n",
       "    <tr>\n",
       "      <th>5</th>\n",
       "      <td>1</td>\n",
       "      <td>The Hunger Games (The Hunger Games, #1)</td>\n",
       "      <td>5</td>\n",
       "    </tr>\n",
       "    <tr>\n",
       "      <th>6</th>\n",
       "      <td>1</td>\n",
       "      <td>The Clue in the Embers (Hardy Boys, #35)</td>\n",
       "      <td>5</td>\n",
       "    </tr>\n",
       "    <tr>\n",
       "      <th>7</th>\n",
       "      <td>1</td>\n",
       "      <td>The Authoritative Calvin and Hobbes: A Calvin ...</td>\n",
       "      <td>5</td>\n",
       "    </tr>\n",
       "    <tr>\n",
       "      <th>8</th>\n",
       "      <td>1</td>\n",
       "      <td>The Clue of the Broken Blade (Hardy Boys, #21)</td>\n",
       "      <td>5</td>\n",
       "    </tr>\n",
       "    <tr>\n",
       "      <th>9</th>\n",
       "      <td>1</td>\n",
       "      <td>The Clue of the Hissing Serpent (Hardy Boys, #53)</td>\n",
       "      <td>5</td>\n",
       "    </tr>\n",
       "  </tbody>\n",
       "</table>\n",
       "</div>"
      ],
      "text/plain": [
       "   user_id                                              title  rating\n",
       "0        1  Agile Web Development with Rails: A Pragmatic ...       5\n",
       "1        1  The Restaurant at the End of the Universe (Hit...       5\n",
       "2        1                                         Siddhartha       5\n",
       "3        1  The Clock of the Long Now: Time and Responsibi...       4\n",
       "4        1            Ready Player One (Ready Player One, #1)       4\n",
       "5        1            The Hunger Games (The Hunger Games, #1)       5\n",
       "6        1           The Clue in the Embers (Hardy Boys, #35)       5\n",
       "7        1  The Authoritative Calvin and Hobbes: A Calvin ...       5\n",
       "8        1     The Clue of the Broken Blade (Hardy Boys, #21)       5\n",
       "9        1  The Clue of the Hissing Serpent (Hardy Boys, #53)       5"
      ]
     },
     "execution_count": 100,
     "metadata": {},
     "output_type": "execute_result"
    }
   ],
   "source": [
    "rating_mapping = {\n",
    "    'did not like it': 1,\n",
    "    'it was ok': 2,\n",
    "    'liked it': 3,\n",
    "    'really liked it': 4,\n",
    "    'it was amazing': 5,\n",
    "    \"This user doesn't have any rating\": 0\n",
    "}\n",
    "\n",
    "df['rating'] = df['rating'].replace(rating_mapping)\n",
    "df.head(10)"
   ]
  },
  {
   "cell_type": "markdown",
   "metadata": {},
   "source": [
    "Create the ratings matrix associated with the DataFrame by taking the user identifiers as an index and the book titles as columns, storing the matrix in a variable named mat_ratings. Replace the missing values ​​with 0s."
   ]
  },
  {
   "cell_type": "code",
   "execution_count": 101,
   "metadata": {},
   "outputs": [],
   "source": [
    "# Ensure the rating column is numeric\n",
    "df['rating'] = pd.to_numeric(df['rating'], errors='coerce')\n",
    "\n",
    "# Create the ratings matrix\n",
    "mat_ratings = df.pivot_table(columns='title', index='user_id', values='rating')\n",
    "\n"
   ]
  },
  {
   "cell_type": "code",
   "execution_count": 102,
   "metadata": {},
   "outputs": [],
   "source": [
    "mat_ratings = mat_ratings.fillna(0)\n"
   ]
  },
  {
   "cell_type": "markdown",
   "metadata": {},
   "source": [
    "Create the CSR matrix sparse_ratings from the matrix mat_ratings. We will also store user IDs and book titles in variables named user_ids and titles, respectively."
   ]
  },
  {
   "cell_type": "code",
   "execution_count": 103,
   "metadata": {},
   "outputs": [],
   "source": [
    "from scipy.sparse import csr_matrix\n",
    "\n",
    "sparse_ratings = csr_matrix(mat_ratings)\n",
    "\n",
    "user_ids = mat_ratings.index.tolist()\n",
    "titles = mat_ratings.columns.tolist()"
   ]
  },
  {
   "cell_type": "markdown",
   "metadata": {},
   "source": [
    " The TruncatedSVD method allows us to do Truncated Singular Value Decomposition. The n_components parameter allows us to choose the number of singular values ​​(or latent factors) to keep. Create an instance of TruncatedSVD, 0 svd with n_components = 12. Then apply the transformation to sparse_ratings.T in a variable that we will name ratings_red* . Show the dimensions of *ratings_red."
   ]
  },
  {
   "cell_type": "code",
   "execution_count": 104,
   "metadata": {},
   "outputs": [
    {
     "data": {
      "text/plain": [
       "(24094, 12)"
      ]
     },
     "execution_count": 104,
     "metadata": {},
     "output_type": "execute_result"
    }
   ],
   "source": [
    "\n",
    "from sklearn.decomposition import TruncatedSVD\n",
    "\n",
    "# Create an instance of TruncatedSVD with n_components = 12\n",
    "svd = TruncatedSVD(n_components=12)\n",
    "\n",
    "# Apply the transformation to sparse_ratings.T\n",
    "ratings_red = svd.fit_transform(sparse_ratings.T)\n",
    "\n",
    "# Show the dimensions of ratings_red\n",
    "ratings_red.shape\n"
   ]
  },
  {
   "cell_type": "markdown",
   "metadata": {},
   "source": [
    "Reconstruct the original matrix using the inverse_transform method and store it in a variable named new_ratings_red.\n",
    "\n",
    "(f) Create the item_similarity and item_similarity2 matrices using the ratings_red and new_ratings_red matrices, respectively. We will use the cosine_similarity function. Then convert the matrices to DataFrame. To ensure that we have the right books corresponding to each similarity, we will use the titles_books variable previously defined for the index and columns parameters. As a reminder, it contains the user identifiers in the order of the rating matrix."
   ]
  },
  {
   "cell_type": "code",
   "execution_count": 105,
   "metadata": {},
   "outputs": [],
   "source": [
    "from sklearn.metrics.pairwise import cosine_similarity\n",
    "\n",
    "# Reconstruct the original matrix\n",
    "new_ratings_red = svd.inverse_transform(ratings_red)\n",
    "\n",
    "# Create the item similarity matrices\n",
    "item_similarity = cosine_similarity(ratings_red)\n",
    "item_similarity2 = cosine_similarity(new_ratings_red)\n",
    "\n",
    "# Convert the matrices to DataFrame\n",
    "item_similarity_df = pd.DataFrame(item_similarity, index=titles, columns=titles)\n",
    "item_similarity2_df = pd.DataFrame(item_similarity2, index=titles, columns=titles)\n",
    "\n"
   ]
  },
  {
   "cell_type": "code",
   "execution_count": 106,
   "metadata": {},
   "outputs": [],
   "source": [
    "import numpy as np\n",
    "def pred_item(mat_ratings, item_similarity, k, user_id):\n",
    "\n",
    "    # Select in mat_ratings the books that have not yet been read by the user\n",
    "    to_predict = mat_ratings.loc[user_id][mat_ratings.loc[user_id]==0]\n",
    "    \n",
    "    # Iterate over all these books\n",
    "    for i in to_predict.index:\n",
    "\n",
    "        #Find the k most similar books excluding the book itself\n",
    "        similar_items = item_similarity.loc[i].sort_values(ascending=False)[1:k+1]\n",
    "\n",
    "        # Calculation of the norm of the similar_items vector\n",
    "        norm = np.sum(np.abs(similar_items))\n",
    "\n",
    "        # Retrieve the ratings given by the user to the k nearest neighbors\n",
    "        ratings = mat_ratings[similar_items.index].loc[user_id]\n",
    "\n",
    "        # Calculate the dot product between ratings and similar_items\n",
    "        scalar_prod = np.dot(ratings, similar_items)\n",
    "        \n",
    "        #Calculate predicted rating for movie i\n",
    "        pred = scalar_prod / norm\n",
    "\n",
    "        # Replace with prediction\n",
    "        to_predict[i] = pred\n",
    "\n",
    "\n",
    "    return to_predict"
   ]
  },
  {
   "cell_type": "markdown",
   "metadata": {},
   "source": [
    " Display the 10 best ratings above 4 from the user '5' which will be stored in the variable user_preferences."
   ]
  },
  {
   "cell_type": "code",
   "execution_count": 107,
   "metadata": {},
   "outputs": [
    {
     "data": {
      "text/html": [
       "<div>\n",
       "<style scoped>\n",
       "    .dataframe tbody tr th:only-of-type {\n",
       "        vertical-align: middle;\n",
       "    }\n",
       "\n",
       "    .dataframe tbody tr th {\n",
       "        vertical-align: top;\n",
       "    }\n",
       "\n",
       "    .dataframe thead th {\n",
       "        text-align: right;\n",
       "    }\n",
       "</style>\n",
       "<table border=\"1\" class=\"dataframe\">\n",
       "  <thead>\n",
       "    <tr style=\"text-align: right;\">\n",
       "      <th></th>\n",
       "      <th>user_id</th>\n",
       "      <th>title</th>\n",
       "      <th>rating</th>\n",
       "    </tr>\n",
       "  </thead>\n",
       "  <tbody>\n",
       "    <tr>\n",
       "      <th>580</th>\n",
       "      <td>5</td>\n",
       "      <td>The Secret Garden</td>\n",
       "      <td>5</td>\n",
       "    </tr>\n",
       "    <tr>\n",
       "      <th>846</th>\n",
       "      <td>5</td>\n",
       "      <td>The Life-Changing Magic of Tidying Up: The Jap...</td>\n",
       "      <td>5</td>\n",
       "    </tr>\n",
       "    <tr>\n",
       "      <th>1010</th>\n",
       "      <td>5</td>\n",
       "      <td>Inspired Styles</td>\n",
       "      <td>5</td>\n",
       "    </tr>\n",
       "    <tr>\n",
       "      <th>1007</th>\n",
       "      <td>5</td>\n",
       "      <td>The Great Gatsby</td>\n",
       "      <td>5</td>\n",
       "    </tr>\n",
       "    <tr>\n",
       "      <th>1004</th>\n",
       "      <td>5</td>\n",
       "      <td>Anne of Green Gables (Anne of Green Gables, #1)</td>\n",
       "      <td>5</td>\n",
       "    </tr>\n",
       "    <tr>\n",
       "      <th>1003</th>\n",
       "      <td>5</td>\n",
       "      <td>Far To Go</td>\n",
       "      <td>5</td>\n",
       "    </tr>\n",
       "    <tr>\n",
       "      <th>1001</th>\n",
       "      <td>5</td>\n",
       "      <td>West with the Night</td>\n",
       "      <td>5</td>\n",
       "    </tr>\n",
       "    <tr>\n",
       "      <th>999</th>\n",
       "      <td>5</td>\n",
       "      <td>Family Shoes (Shoes, #8)</td>\n",
       "      <td>5</td>\n",
       "    </tr>\n",
       "    <tr>\n",
       "      <th>998</th>\n",
       "      <td>5</td>\n",
       "      <td>Slim Aarons: Women</td>\n",
       "      <td>5</td>\n",
       "    </tr>\n",
       "    <tr>\n",
       "      <th>995</th>\n",
       "      <td>5</td>\n",
       "      <td>The Beauty Myth</td>\n",
       "      <td>5</td>\n",
       "    </tr>\n",
       "  </tbody>\n",
       "</table>\n",
       "</div>"
      ],
      "text/plain": [
       "      user_id                                              title  rating\n",
       "580         5                                  The Secret Garden       5\n",
       "846         5  The Life-Changing Magic of Tidying Up: The Jap...       5\n",
       "1010        5                                    Inspired Styles       5\n",
       "1007        5                                   The Great Gatsby       5\n",
       "1004        5    Anne of Green Gables (Anne of Green Gables, #1)       5\n",
       "1003        5                                          Far To Go       5\n",
       "1001        5                                West with the Night       5\n",
       "999         5                           Family Shoes (Shoes, #8)       5\n",
       "998         5                                 Slim Aarons: Women       5\n",
       "995         5                                    The Beauty Myth       5"
      ]
     },
     "execution_count": 107,
     "metadata": {},
     "output_type": "execute_result"
    }
   ],
   "source": [
    "userId = 5\n",
    "\n",
    "# Ratings above 4\n",
    "user_preferences = df[(df['user_id'] == userId) & (df['rating'] >= 4)]\n",
    "\n",
    "# We sort in descending order, taking the top 10\n",
    "user_preferences = user_preferences.sort_values('rating', ascending=False).head(10)\n",
    "\n",
    "user_preferences\n"
   ]
  },
  {
   "cell_type": "markdown",
   "metadata": {},
   "source": [
    " Make 10 recommendations to user '5' using the pred_item function defined previously and using item_similarity and item_similarity2. Compare the results obtained."
   ]
  },
  {
   "cell_type": "code",
   "execution_count": 108,
   "metadata": {},
   "outputs": [
    {
     "name": "stderr",
     "output_type": "stream",
     "text": [
      "C:\\Users\\peppe\\AppData\\Local\\Temp\\ipykernel_45392\\4012399455.py:23: RuntimeWarning: invalid value encountered in scalar divide\n",
      "  pred = scalar_prod / norm\n"
     ]
    },
    {
     "name": "stdout",
     "output_type": "stream",
     "text": [
      "title\n",
      "The Gifts of Imperfection                                                      4.659184\n",
      "Money                                                                          4.333898\n",
      "Wuthering Heights                                                              2.659972\n",
      "Catching Fire (The Hunger Games, #2)                                           2.000797\n",
      "Slaughterhouse-Five                                                            1.674954\n",
      "Banker to the Poor: Micro-Lending and the Battle Against World Poverty         1.674227\n",
      "Rebecca                                                                        1.673997\n",
      "The Alchemyst (The Secrets of the Immortal Nicholas Flamel, #1)                1.669648\n",
      "The Hitchhiker's Guide to the Galaxy (Hitchhiker's Guide to the Galaxy, #1)    1.668967\n",
      "The Guernsey Literary and Potato Peel Pie Society                              1.665995\n",
      "Name: 5, dtype: float64\n"
     ]
    }
   ],
   "source": [
    "reco_user1 = pred_item(mat_ratings, item_similarity_df, 3, 5).sort_values(ascending=False).head(10)\n",
    "print(reco_user1)\n"
   ]
  },
  {
   "cell_type": "code",
   "execution_count": 109,
   "metadata": {},
   "outputs": [
    {
     "name": "stderr",
     "output_type": "stream",
     "text": [
      "C:\\Users\\peppe\\AppData\\Local\\Temp\\ipykernel_45392\\4012399455.py:23: RuntimeWarning: invalid value encountered in scalar divide\n",
      "  pred = scalar_prod / norm\n"
     ]
    },
    {
     "name": "stdout",
     "output_type": "stream",
     "text": [
      "title\n",
      "The Gifts of Imperfection                                                      4.659184\n",
      "Money                                                                          4.333898\n",
      "Wuthering Heights                                                              2.659972\n",
      "Catching Fire (The Hunger Games, #2)                                           2.000797\n",
      "Slaughterhouse-Five                                                            1.674954\n",
      "Banker to the Poor: Micro-Lending and the Battle Against World Poverty         1.674227\n",
      "Rebecca                                                                        1.673997\n",
      "The Alchemyst (The Secrets of the Immortal Nicholas Flamel, #1)                1.669648\n",
      "The Hitchhiker's Guide to the Galaxy (Hitchhiker's Guide to the Galaxy, #1)    1.668967\n",
      "The Guernsey Literary and Potato Peel Pie Society                              1.665995\n",
      "Name: 5, dtype: float64\n"
     ]
    }
   ],
   "source": [
    "\n",
    "reco_user1bis = pred_item(mat_ratings, item_similarity2_df, 3, 5).sort_values(ascending=False).head(10)\n",
    "print(reco_user1bis)"
   ]
  },
  {
   "cell_type": "markdown",
   "metadata": {},
   "source": [
    "In both cases we can note that the recommendations do not change if we reconstruct our original matrix than if we take the reduced matrix. However, the recommendations will change depending on the number of factors that are taken into account. How to make the right choice of parameters? We will explore this later on."
   ]
  },
  {
   "cell_type": "markdown",
   "metadata": {},
   "source": [
    "From the Reader function, create an object that we will name reader by putting rating_scale=(0, 5) as parameter. Then, read the database using the Dataset.load_from_df function and storing it in a variable that we will name df_surprise. For parameters we will use df[[\"user_id\", \"title\", \"rating\"]] and reader=reader."
   ]
  },
  {
   "cell_type": "code",
   "execution_count": 110,
   "metadata": {},
   "outputs": [],
   "source": [
    "from surprise import Reader\n",
    "from surprise import Dataset\n",
    "\n",
    "reader = Reader(rating_scale=(0, 5))\n",
    "\n",
    "df_surprise = Dataset.load_from_df(df[[\"user_id\", \"title\", \"rating\"]], reader=reader)"
   ]
  },
  {
   "cell_type": "code",
   "execution_count": 111,
   "metadata": {},
   "outputs": [
    {
     "name": "stdout",
     "output_type": "stream",
     "text": [
      "Evaluating RMSE, MAE of algorithm NormalPredictor on 5 split(s).\n",
      "\n",
      "                  Fold 1  Fold 2  Fold 3  Fold 4  Fold 5  Mean    Std     \n",
      "RMSE (testset)    1.3273  1.3243  1.3293  1.3305  1.3292  1.3281  0.0022  \n",
      "MAE (testset)     1.0514  1.0475  1.0474  1.0561  1.0545  1.0514  0.0035  \n",
      "Fit time          0.02    0.03    0.02    0.02    0.02    0.02    0.00    \n",
      "Test time         0.02    0.02    0.02    0.02    0.02    0.02    0.00    \n"
     ]
    },
    {
     "data": {
      "text/plain": [
       "{'test_rmse': array([1.3273471 , 1.32427263, 1.32929163, 1.33046009, 1.32920087]),\n",
       " 'test_mae': array([1.05142827, 1.04747318, 1.04738371, 1.05607751, 1.05446988]),\n",
       " 'fit_time': (0.023508548736572266,\n",
       "  0.02501678466796875,\n",
       "  0.021029949188232422,\n",
       "  0.02200031280517578,\n",
       "  0.02312779426574707),\n",
       " 'test_time': (0.01999211311340332,\n",
       "  0.022505998611450195,\n",
       "  0.022511959075927734,\n",
       "  0.023014068603515625,\n",
       "  0.02300119400024414)}"
      ]
     },
     "execution_count": 111,
     "metadata": {},
     "output_type": "execute_result"
    }
   ],
   "source": [
    "user_id = 5\n",
    "from surprise import NormalPredictor\n",
    "from surprise.model_selection import cross_validate\n",
    "\n",
    "normpred = NormalPredictor()\n",
    "\n",
    "cross_validate(normpred, df_surprise, measures=['RMSE', 'MAE'], cv=5, verbose=True)"
   ]
  },
  {
   "cell_type": "markdown",
   "metadata": {},
   "source": [
    "Let's see the predictions this algorithm gives for our user. We will first create our test set using the build_full_trainset(). function.\n",
    "\n",
    "Traditionally, in Machine Learning we evaluate our model by separating our database into two: a part for training and a part for testing. Except that, in Recommendation Systems this implies that our sample of Training and our validation sample correspond to a different user population, which doesn't make much sense.\n",
    "\n",
    "Here what we are going to do is to construct a train set and then a test set containing the pairs of notations not present in our train set. This can be done easily using the function build_anti_testset().\n",
    "\n",
    "In our case, to avoid having to iterate on all users and all books, we will only focus on our user's information to create the antitest set.\n",
    "\n",
    "We also need to assign a rating value to the unrated pairs, so we will use the overall average of the training set (which is the default value used by Surprise)."
   ]
  },
  {
   "cell_type": "markdown",
   "metadata": {},
   "source": [
    "(d) Build train_set using the function build_full_trainset().\n",
    "\n",
    "(e) From the train set, extract the id used by Surprise associated with our user. To do this, use the function to_inner_uid(user_id). Then store it in a variable named targetUser.\n",
    "\n",
    "(f) In a list named anti_testset_user fill in the books not rated by our user with the overall average for rating."
   ]
  },
  {
   "cell_type": "code",
   "execution_count": 112,
   "metadata": {},
   "outputs": [],
   "source": [
    "# Build train_set using the function build_full_trainset()\n",
    "train_set = df_surprise.build_full_trainset()\n",
    "\n",
    "# Extract the id used by Surprise associated with our user\n",
    "targetUser = train_set.to_inner_uid(user_id)\n",
    "\n",
    "# Create the anti-test set for the user\n",
    "anti_testset = []\n",
    "rated_items = [item for (item, _) in train_set.ur[targetUser]]\n",
    "for item_id in train_set.all_items():\n",
    "    if item_id not in rated_items:\n",
    "        anti_testset.append((targetUser, item_id, train_set.global_mean))\n"
   ]
  },
  {
   "cell_type": "markdown",
   "metadata": {},
   "source": [
    "In a variable predictions store the predictions of our algorithm normpred. Convert it to a DataFrame, sort by 'est' in a descending manner and display the first ten recommendations. In Surprise 'est' is the predicted note."
   ]
  },
  {
   "cell_type": "code",
   "execution_count": 116,
   "metadata": {},
   "outputs": [
    {
     "data": {
      "text/html": [
       "<div>\n",
       "<style scoped>\n",
       "    .dataframe tbody tr th:only-of-type {\n",
       "        vertical-align: middle;\n",
       "    }\n",
       "\n",
       "    .dataframe tbody tr th {\n",
       "        vertical-align: top;\n",
       "    }\n",
       "\n",
       "    .dataframe thead th {\n",
       "        text-align: right;\n",
       "    }\n",
       "</style>\n",
       "<table border=\"1\" class=\"dataframe\">\n",
       "  <thead>\n",
       "    <tr style=\"text-align: right;\">\n",
       "      <th></th>\n",
       "      <th>uid</th>\n",
       "      <th>iid</th>\n",
       "      <th>r_ui</th>\n",
       "      <th>est</th>\n",
       "      <th>details</th>\n",
       "    </tr>\n",
       "  </thead>\n",
       "  <tbody>\n",
       "    <tr>\n",
       "      <th>17219</th>\n",
       "      <td>4</td>\n",
       "      <td>The Good Girl</td>\n",
       "      <td>3.82287</td>\n",
       "      <td>5.0</td>\n",
       "      <td>{'was_impossible': False}</td>\n",
       "    </tr>\n",
       "    <tr>\n",
       "      <th>2638</th>\n",
       "      <td>4</td>\n",
       "      <td>Childe Roland to the Dark Tower Came</td>\n",
       "      <td>3.82287</td>\n",
       "      <td>5.0</td>\n",
       "      <td>{'was_impossible': False}</td>\n",
       "    </tr>\n",
       "    <tr>\n",
       "      <th>7501</th>\n",
       "      <td>4</td>\n",
       "      <td>If The Creek Don't Rise</td>\n",
       "      <td>3.82287</td>\n",
       "      <td>5.0</td>\n",
       "      <td>{'was_impossible': False}</td>\n",
       "    </tr>\n",
       "    <tr>\n",
       "      <th>2603</th>\n",
       "      <td>4</td>\n",
       "      <td>Chemistry</td>\n",
       "      <td>3.82287</td>\n",
       "      <td>5.0</td>\n",
       "      <td>{'was_impossible': False}</td>\n",
       "    </tr>\n",
       "    <tr>\n",
       "      <th>2606</th>\n",
       "      <td>4</td>\n",
       "      <td>Chesapeake</td>\n",
       "      <td>3.82287</td>\n",
       "      <td>5.0</td>\n",
       "      <td>{'was_impossible': False}</td>\n",
       "    </tr>\n",
       "    <tr>\n",
       "      <th>15037</th>\n",
       "      <td>4</td>\n",
       "      <td>The Anome (Durdane, #1)</td>\n",
       "      <td>3.82287</td>\n",
       "      <td>5.0</td>\n",
       "      <td>{'was_impossible': False}</td>\n",
       "    </tr>\n",
       "    <tr>\n",
       "      <th>15044</th>\n",
       "      <td>4</td>\n",
       "      <td>The Antimonopoly Laws Of Japan</td>\n",
       "      <td>3.82287</td>\n",
       "      <td>5.0</td>\n",
       "      <td>{'was_impossible': False}</td>\n",
       "    </tr>\n",
       "    <tr>\n",
       "      <th>7490</th>\n",
       "      <td>4</td>\n",
       "      <td>Idoru (Bridge #2)</td>\n",
       "      <td>3.82287</td>\n",
       "      <td>5.0</td>\n",
       "      <td>{'was_impossible': False}</td>\n",
       "    </tr>\n",
       "    <tr>\n",
       "      <th>7487</th>\n",
       "      <td>4</td>\n",
       "      <td>Identical Strangers: A Memoir of Twins Separat...</td>\n",
       "      <td>3.82287</td>\n",
       "      <td>5.0</td>\n",
       "      <td>{'was_impossible': False}</td>\n",
       "    </tr>\n",
       "    <tr>\n",
       "      <th>11481</th>\n",
       "      <td>4</td>\n",
       "      <td>Opening the Bidding</td>\n",
       "      <td>3.82287</td>\n",
       "      <td>5.0</td>\n",
       "      <td>{'was_impossible': False}</td>\n",
       "    </tr>\n",
       "  </tbody>\n",
       "</table>\n",
       "</div>"
      ],
      "text/plain": [
       "       uid                                                iid     r_ui  est  \\\n",
       "17219    4                                      The Good Girl  3.82287  5.0   \n",
       "2638     4               Childe Roland to the Dark Tower Came  3.82287  5.0   \n",
       "7501     4                            If The Creek Don't Rise  3.82287  5.0   \n",
       "2603     4                                          Chemistry  3.82287  5.0   \n",
       "2606     4                                         Chesapeake  3.82287  5.0   \n",
       "15037    4                            The Anome (Durdane, #1)  3.82287  5.0   \n",
       "15044    4                     The Antimonopoly Laws Of Japan  3.82287  5.0   \n",
       "7490     4                                  Idoru (Bridge #2)  3.82287  5.0   \n",
       "7487     4  Identical Strangers: A Memoir of Twins Separat...  3.82287  5.0   \n",
       "11481    4                                Opening the Bidding  3.82287  5.0   \n",
       "\n",
       "                         details  \n",
       "17219  {'was_impossible': False}  \n",
       "2638   {'was_impossible': False}  \n",
       "7501   {'was_impossible': False}  \n",
       "2603   {'was_impossible': False}  \n",
       "2606   {'was_impossible': False}  \n",
       "15037  {'was_impossible': False}  \n",
       "15044  {'was_impossible': False}  \n",
       "7490   {'was_impossible': False}  \n",
       "7487   {'was_impossible': False}  \n",
       "11481  {'was_impossible': False}  "
      ]
     },
     "execution_count": 116,
     "metadata": {},
     "output_type": "execute_result"
    }
   ],
   "source": [
    "# Solution\n",
    "\n",
    "# Perform predictions on the \"anti-testset_user\" set using the model (not specified in the code)\n",
    "predictions = normpred.test(anti_testset)  \n",
    "\n",
    "# Convert predictions to a pandas DataFrame\n",
    "predictions = pd.DataFrame(predictions)\n",
    "\n",
    "# Create a mapping from numerical ID back to original titles\n",
    "title_mapping = dict(enumerate(df[\"title\"].astype(\"category\").cat.categories))\n",
    "\n",
    "# Apply mapping to convert numerical iid back to book titles\n",
    "predictions[\"iid\"] = predictions[\"iid\"].map(title_mapping)\n",
    "\n",
    "# Sort predictions by column 'est' (estimate) in descending order\n",
    "predictions.sort_values(by=['est'], inplace=True, ascending=False)\n",
    "\n",
    "# Show top 10 predictions\n",
    "predictions.head(10)"
   ]
  },
  {
   "cell_type": "code",
   "execution_count": 117,
   "metadata": {},
   "outputs": [
    {
     "name": "stdout",
     "output_type": "stream",
     "text": [
      "Evaluating RMSE, MAE of algorithm SVD on 5 split(s).\n",
      "\n",
      "                  Fold 1  Fold 2  Fold 3  Fold 4  Fold 5  Mean    Std     \n",
      "RMSE (testset)    0.8671  0.8685  0.8662  0.8630  0.8631  0.8656  0.0022  \n",
      "MAE (testset)     0.6833  0.6849  0.6856  0.6827  0.6843  0.6842  0.0011  \n",
      "Fit time          0.31    0.31    0.32    0.32    0.30    0.31    0.01    \n",
      "Test time         0.03    0.03    0.03    0.03    0.03    0.03    0.00    \n"
     ]
    },
    {
     "data": {
      "text/plain": [
       "{'test_rmse': array([0.86706626, 0.86852546, 0.86623589, 0.86301346, 0.86307654]),\n",
       " 'test_mae': array([0.68328812, 0.68492957, 0.68562944, 0.68270685, 0.68425197]),\n",
       " 'fit_time': (0.31074976921081543,\n",
       "  0.3091449737548828,\n",
       "  0.3210155963897705,\n",
       "  0.3204183578491211,\n",
       "  0.30475687980651855),\n",
       " 'test_time': (0.02653193473815918,\n",
       "  0.02626347541809082,\n",
       "  0.026000022888183594,\n",
       "  0.0260009765625,\n",
       "  0.027999401092529297)}"
      ]
     },
     "execution_count": 117,
     "metadata": {},
     "output_type": "execute_result"
    }
   ],
   "source": [
    "from surprise import SVD\n",
    "svd = SVD()\n",
    "\n",
    "cross_validate(svd, df_surprise, measures=['RMSE', 'MAE'], cv=5, verbose=True)"
   ]
  },
  {
   "cell_type": "code",
   "execution_count": 118,
   "metadata": {},
   "outputs": [
    {
     "data": {
      "text/html": [
       "<div>\n",
       "<style scoped>\n",
       "    .dataframe tbody tr th:only-of-type {\n",
       "        vertical-align: middle;\n",
       "    }\n",
       "\n",
       "    .dataframe tbody tr th {\n",
       "        vertical-align: top;\n",
       "    }\n",
       "\n",
       "    .dataframe thead th {\n",
       "        text-align: right;\n",
       "    }\n",
       "</style>\n",
       "<table border=\"1\" class=\"dataframe\">\n",
       "  <thead>\n",
       "    <tr style=\"text-align: right;\">\n",
       "      <th></th>\n",
       "      <th>uid</th>\n",
       "      <th>iid</th>\n",
       "      <th>r_ui</th>\n",
       "      <th>est</th>\n",
       "      <th>details</th>\n",
       "    </tr>\n",
       "  </thead>\n",
       "  <tbody>\n",
       "    <tr>\n",
       "      <th>7791</th>\n",
       "      <td>4</td>\n",
       "      <td>8494</td>\n",
       "      <td>3.82287</td>\n",
       "      <td>4.042496</td>\n",
       "      <td>{'was_impossible': False}</td>\n",
       "    </tr>\n",
       "    <tr>\n",
       "      <th>7799</th>\n",
       "      <td>4</td>\n",
       "      <td>8502</td>\n",
       "      <td>3.82287</td>\n",
       "      <td>4.042496</td>\n",
       "      <td>{'was_impossible': False}</td>\n",
       "    </tr>\n",
       "    <tr>\n",
       "      <th>7798</th>\n",
       "      <td>4</td>\n",
       "      <td>8501</td>\n",
       "      <td>3.82287</td>\n",
       "      <td>4.042496</td>\n",
       "      <td>{'was_impossible': False}</td>\n",
       "    </tr>\n",
       "    <tr>\n",
       "      <th>7797</th>\n",
       "      <td>4</td>\n",
       "      <td>8500</td>\n",
       "      <td>3.82287</td>\n",
       "      <td>4.042496</td>\n",
       "      <td>{'was_impossible': False}</td>\n",
       "    </tr>\n",
       "    <tr>\n",
       "      <th>7796</th>\n",
       "      <td>4</td>\n",
       "      <td>8499</td>\n",
       "      <td>3.82287</td>\n",
       "      <td>4.042496</td>\n",
       "      <td>{'was_impossible': False}</td>\n",
       "    </tr>\n",
       "    <tr>\n",
       "      <th>7795</th>\n",
       "      <td>4</td>\n",
       "      <td>8498</td>\n",
       "      <td>3.82287</td>\n",
       "      <td>4.042496</td>\n",
       "      <td>{'was_impossible': False}</td>\n",
       "    </tr>\n",
       "    <tr>\n",
       "      <th>7794</th>\n",
       "      <td>4</td>\n",
       "      <td>8497</td>\n",
       "      <td>3.82287</td>\n",
       "      <td>4.042496</td>\n",
       "      <td>{'was_impossible': False}</td>\n",
       "    </tr>\n",
       "    <tr>\n",
       "      <th>7793</th>\n",
       "      <td>4</td>\n",
       "      <td>8496</td>\n",
       "      <td>3.82287</td>\n",
       "      <td>4.042496</td>\n",
       "      <td>{'was_impossible': False}</td>\n",
       "    </tr>\n",
       "    <tr>\n",
       "      <th>7792</th>\n",
       "      <td>4</td>\n",
       "      <td>8495</td>\n",
       "      <td>3.82287</td>\n",
       "      <td>4.042496</td>\n",
       "      <td>{'was_impossible': False}</td>\n",
       "    </tr>\n",
       "    <tr>\n",
       "      <th>23390</th>\n",
       "      <td>4</td>\n",
       "      <td>24093</td>\n",
       "      <td>3.82287</td>\n",
       "      <td>4.042496</td>\n",
       "      <td>{'was_impossible': False}</td>\n",
       "    </tr>\n",
       "  </tbody>\n",
       "</table>\n",
       "</div>"
      ],
      "text/plain": [
       "       uid    iid     r_ui       est                    details\n",
       "7791     4   8494  3.82287  4.042496  {'was_impossible': False}\n",
       "7799     4   8502  3.82287  4.042496  {'was_impossible': False}\n",
       "7798     4   8501  3.82287  4.042496  {'was_impossible': False}\n",
       "7797     4   8500  3.82287  4.042496  {'was_impossible': False}\n",
       "7796     4   8499  3.82287  4.042496  {'was_impossible': False}\n",
       "7795     4   8498  3.82287  4.042496  {'was_impossible': False}\n",
       "7794     4   8497  3.82287  4.042496  {'was_impossible': False}\n",
       "7793     4   8496  3.82287  4.042496  {'was_impossible': False}\n",
       "7792     4   8495  3.82287  4.042496  {'was_impossible': False}\n",
       "23390    4  24093  3.82287  4.042496  {'was_impossible': False}"
      ]
     },
     "execution_count": 118,
     "metadata": {},
     "output_type": "execute_result"
    }
   ],
   "source": [
    "# Perform predictions on the \"anti-testset_user\" set using the model (not specified in the code)\n",
    "predictionsSVD = svd.test(anti_testset)  \n",
    "\n",
    "# Convert predictions to a pandas DataFrame\n",
    "predictionsSVD = pd.DataFrame(predictionsSVD)\n",
    "\n",
    "# Sort predictions by column 'is' (estimate) in descending order\n",
    "predictionsSVD.sort_values(by=['est'], inplace=True, ascending=False)\n",
    "\n",
    "# Show top 10 predictions\n",
    "predictionsSVD.tail(10)"
   ]
  },
  {
   "cell_type": "markdown",
   "metadata": {},
   "source": [
    "Perform Gridsearch for SVD"
   ]
  },
  {
   "cell_type": "code",
   "execution_count": 132,
   "metadata": {},
   "outputs": [],
   "source": [
    "from surprise.model_selection import GridSearchCV\n",
    "\n",
    "param_grid = {'n_factors': [100, 150],\n",
    "              'n_epochs': [20, 25, 30],\n",
    "              'lr_all':[0.005, 0.01, 0.1],\n",
    "              'reg_all':[0.02, 0.05, 0.1]}\n",
    "grid_search = GridSearchCV(SVD, param_grid, measures=['rmse','mae'], cv=3)\n",
    "grid_search.fit(df_surprise)"
   ]
  },
  {
   "cell_type": "code",
   "execution_count": 133,
   "metadata": {},
   "outputs": [
    {
     "name": "stdout",
     "output_type": "stream",
     "text": [
      "0.8618462358744828\n",
      "0.6836813938590174\n",
      "{'n_factors': 100, 'n_epochs': 30, 'lr_all': 0.005, 'reg_all': 0.1}\n",
      "Evaluating RMSE, MAE of algorithm SVD on 5 split(s).\n",
      "\n",
      "                  Fold 1  Fold 2  Fold 3  Fold 4  Fold 5  Mean    Std     \n",
      "RMSE (testset)    0.8572  0.8574  0.8608  0.8545  0.8674  0.8595  0.0045  \n",
      "MAE (testset)     0.6789  0.6839  0.6789  0.6769  0.6913  0.6820  0.0052  \n",
      "Fit time          0.43    0.43    0.44    0.42    0.44    0.43    0.01    \n",
      "Test time         0.03    0.03    0.03    0.03    0.03    0.03    0.00    \n"
     ]
    },
    {
     "data": {
      "text/plain": [
       "{'test_rmse': array([0.85719339, 0.85739796, 0.8607743 , 0.85452654, 0.86744229]),\n",
       " 'test_mae': array([0.6789361 , 0.68386357, 0.67893213, 0.67692049, 0.69133291]),\n",
       " 'fit_time': (0.4338717460632324,\n",
       "  0.4304616451263428,\n",
       "  0.43692708015441895,\n",
       "  0.4164571762084961,\n",
       "  0.4433131217956543),\n",
       " 'test_time': (0.025290250778198242,\n",
       "  0.025766372680664062,\n",
       "  0.026013612747192383,\n",
       "  0.02515244483947754,\n",
       "  0.026001453399658203)}"
      ]
     },
     "execution_count": 133,
     "metadata": {},
     "output_type": "execute_result"
    }
   ],
   "source": [
    "\n",
    "print(grid_search.best_score['rmse'])\n",
    "\n",
    "print(grid_search.best_score['mae'])\n",
    "\n",
    "print(grid_search.best_params['rmse'])\n",
    "\n",
    "tunedSVD = grid_search.best_estimator['rmse']\n",
    "\n",
    "cross_validate(tunedSVD, df_surprise, measures=['RMSE', 'MAE'], cv=5, verbose=True)"
   ]
  },
  {
   "cell_type": "code",
   "execution_count": 134,
   "metadata": {},
   "outputs": [],
   "source": [
    "from surprise import dump\n",
    "\n",
    "# Save the best SVD model\n",
    "dump.dump('svd_model', algo=tunedSVD)"
   ]
  },
  {
   "cell_type": "markdown",
   "metadata": {},
   "source": [
    "Perform Gridsearch for NMF"
   ]
  },
  {
   "cell_type": "code",
   "execution_count": 130,
   "metadata": {},
   "outputs": [],
   "source": [
    "from surprise.model_selection import GridSearchCV\n",
    "from surprise import NMF\n",
    "\n",
    "param_grid = {'n_factors': [18, 100],\n",
    "              'n_epochs': [20],\n",
    "              'reg_pu': [0.02, 0.05]}\n",
    "\n",
    "# Initialize the GridSearchCV\n",
    "grid_search_2 = GridSearchCV(NMF, param_grid, measures=['rmse', 'mae'], cv=3)\n",
    "\n",
    "# Fit the model\n",
    "grid_search_2.fit(df_surprise)\n"
   ]
  },
  {
   "cell_type": "code",
   "execution_count": 131,
   "metadata": {},
   "outputs": [
    {
     "name": "stdout",
     "output_type": "stream",
     "text": [
      "1.019342445140591\n",
      "0.7787451809812712\n",
      "{'n_factors': 18, 'n_epochs': 20, 'reg_pu': 0.05}\n",
      "Evaluating RMSE, MAE of algorithm NMF on 5 split(s).\n",
      "\n",
      "                  Fold 1  Fold 2  Fold 3  Fold 4  Fold 5  Mean    Std     \n",
      "RMSE (testset)    1.0010  1.0231  1.0289  1.0075  1.0141  1.0149  0.0101  \n",
      "MAE (testset)     0.7691  0.7800  0.7852  0.7686  0.7727  0.7751  0.0065  \n",
      "Fit time          0.42    0.42    0.42    0.41    0.42    0.42    0.00    \n",
      "Test time         0.02    0.02    0.02    0.03    0.02    0.02    0.00    \n"
     ]
    },
    {
     "data": {
      "text/plain": [
       "{'test_rmse': array([1.00095529, 1.02309989, 1.02886129, 1.00750894, 1.01414839]),\n",
       " 'test_mae': array([0.76908215, 0.77998114, 0.78517548, 0.76861896, 0.77272312]),\n",
       " 'fit_time': (0.420072078704834,\n",
       "  0.4210538864135742,\n",
       "  0.4185209274291992,\n",
       "  0.4125678539276123,\n",
       "  0.4179694652557373),\n",
       " 'test_time': (0.023230314254760742,\n",
       "  0.024919986724853516,\n",
       "  0.023998022079467773,\n",
       "  0.025275230407714844,\n",
       "  0.024130821228027344)}"
      ]
     },
     "execution_count": 131,
     "metadata": {},
     "output_type": "execute_result"
    }
   ],
   "source": [
    "\n",
    "print(grid_search_2.best_score['rmse'])\n",
    "\n",
    "print(grid_search_2.best_score['mae'])\n",
    "\n",
    "print(grid_search_2.best_params['rmse'])\n",
    "\n",
    "tunedNMF = grid_search_2.best_estimator['rmse']\n",
    "\n",
    "cross_validate(tunedNMF, df_surprise, measures=['RMSE', 'MAE'], cv=5, verbose=True)"
   ]
  }
 ],
 "metadata": {
  "kernelspec": {
   "display_name": "MVTEC_torch_py310_20250114",
   "language": "python",
   "name": "python3"
  },
  "language_info": {
   "codemirror_mode": {
    "name": "ipython",
    "version": 3
   },
   "file_extension": ".py",
   "mimetype": "text/x-python",
   "name": "python",
   "nbconvert_exporter": "python",
   "pygments_lexer": "ipython3",
   "version": "3.10.16"
  }
 },
 "nbformat": 4,
 "nbformat_minor": 2
}
